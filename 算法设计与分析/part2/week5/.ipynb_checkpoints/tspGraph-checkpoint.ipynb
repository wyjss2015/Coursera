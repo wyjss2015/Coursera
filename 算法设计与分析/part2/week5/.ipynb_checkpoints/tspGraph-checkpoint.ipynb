{
 "cells": [
  {
   "cell_type": "code",
   "execution_count": 28,
   "metadata": {
    "collapsed": true
   },
   "outputs": [],
   "source": [
    "import numpy as np\n",
    "import matplotlib.pyplot as plt"
   ]
  },
  {
   "cell_type": "code",
   "execution_count": 29,
   "metadata": {
    "collapsed": true
   },
   "outputs": [],
   "source": [
    "tspFile = open('tsp.txt','r')\n",
    "tspFile.readline()\n",
    "x = []\n",
    "y = []\n",
    "line = tspFile.readline()\n",
    "while line:\n",
    "    temp = line.strip().split()\n",
    "    x.append(float(temp[0]))\n",
    "    y.append(float(temp[1]))\n",
    "    line = tspFile.readline()\n",
    "tspFile.close()"
   ]
  },
  {
   "cell_type": "code",
   "execution_count": 38,
   "metadata": {
    "collapsed": false
   },
   "outputs": [],
   "source": [
    "plt.axis([20000,28000,9000,18000])\n",
    "plt.plot(x, y, 'ro',ms=5)\n",
    "n = len(x)\n",
    "i = 0\n",
    "while i<n-1:\n",
    "        j = i + 1\n",
    "        while j<n:\n",
    "            plt.plot([x[i],x[j]],[y[i],y[j]],'b-',linewidth=0.1)\n",
    "            j += 1\n",
    "        text = 'haha'    \n",
    "        plt.annotate('%d'%i,xy=(x[i],y[i]))\n",
    "        i += 1\n",
    "plt.annotate('%d'%i,xy=(x[i],y[i]))\n",
    "plt.xlabel('X axis')\n",
    "plt.ylabel('Y axis')\n",
    "plt.show()"
   ]
  },
  {
   "cell_type": "code",
   "execution_count": 31,
   "metadata": {
    "collapsed": true
   },
   "outputs": [],
   "source": [
    "def eulaCal(i, j):\n",
    "    tempX = x[i]-x[j]\n",
    "    tempY = y[i]-y[j]\n",
    "    return (tempX**2+tempY**2)**0.5"
   ]
  },
  {
   "cell_type": "code",
   "execution_count": 37,
   "metadata": {
    "collapsed": false
   },
   "outputs": [
    {
     "name": "stdout",
     "output_type": "stream",
     "text": [
      "106.718669615\n",
      "1359.73858926\n",
      "1411.95293792\n",
      "26442.73301\n"
     ]
    }
   ],
   "source": [
    "a1 = eulaCal(9,10)\n",
    "a2 = eulaCal(9,11)\n",
    "a3 = eulaCal(10,11)\n",
    "a4 = eulaCal(4,3)\n",
    "a5 = eulaCal(3,2)\n",
    "a6 = eulaCal(4,0)\n",
    "a7 = eulaCal(2,1)\n",
    "print a1\n",
    "print a2\n",
    "print a3\n",
    "print 26283.8-1359.73858+106.71866+1411.95293"
   ]
  }
 ],
 "metadata": {
  "kernelspec": {
   "display_name": "Python 2",
   "language": "python",
   "name": "python2"
  },
  "language_info": {
   "codemirror_mode": {
    "name": "ipython",
    "version": 2
   },
   "file_extension": ".py",
   "mimetype": "text/x-python",
   "name": "python",
   "nbconvert_exporter": "python",
   "pygments_lexer": "ipython2",
   "version": "2.7.6"
  }
 },
 "nbformat": 4,
 "nbformat_minor": 0
}
